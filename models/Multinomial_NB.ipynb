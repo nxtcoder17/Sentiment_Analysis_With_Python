{
 "cells": [
  {
   "cell_type": "code",
   "execution_count": 5,
   "metadata": {},
   "outputs": [],
   "source": [
    "import pandas as pd\n",
    "import numpy as np\n",
    "import pickle\n",
    "\n",
    "from pathlib import Path\n",
    "\n",
    "from sklearn.model_selection import train_test_split\n",
    "from sklearn.feature_extraction.text import TfidfVectorizer\n",
    "from sklearn.naive_bayes import MultinomialNB\n",
    "from sklearn.metrics import accuracy_score, classification_report, confusion_matrix"
   ]
  },
  {
   "cell_type": "code",
   "execution_count": 7,
   "metadata": {},
   "outputs": [],
   "source": [
    "class Model:\n",
    "    def __init__(self, X=None, Y=None, file_path=\"MultinomialNB.pkl\"):\n",
    "        self.vectorizer = None,\n",
    "        self.model = None,\n",
    "        if Path.exists(Path(file_path)):\n",
    "            self.vectorizer, self.model = pickle.load(open(file_path, \"rb\"))\n",
    "        else:\n",
    "            self.model = MultinomialNB()\n",
    "            x_train, x_test, y_train, y_test = train_test_split(X, Y, test_size=0.3)\n",
    "            \n",
    "            # Training Model\n",
    "            self.model.fit(x_train, y_train)\n",
    "            \n",
    "            # Training Results stats\n",
    "            predicted = self.model.predict(x_test)\n",
    "            if debug:\n",
    "                print(f\"Accuracy: {accuracy_score(y_test, predicted)}\")\n",
    "                print(f\"Classification Report:\")\n",
    "                print(classification_report(y_test, predicted))\n",
    "                \n",
    "            pickled_tuple = (self.vectorizer, self.model)\n",
    "            pickle.dump(pickled_tuple, open(file_path, 'wb'))\n",
    "            \n",
    "    def predict(self, test):\n",
    "        if not isinstance(test, pd.Series):\n",
    "            test = pd.Series([test])\n",
    "        test = self.vectorizer.transform(test)\n",
    "        return self.model.predict(test)\n",
    "    "
   ]
  },
  {
   "cell_type": "code",
   "execution_count": null,
   "metadata": {},
   "outputs": [],
   "source": []
  }
 ],
 "metadata": {
  "kernelspec": {
   "display_name": "Python 3",
   "language": "python",
   "name": "python3"
  },
  "language_info": {
   "codemirror_mode": {
    "name": "ipython",
    "version": 3
   },
   "file_extension": ".py",
   "mimetype": "text/x-python",
   "name": "python",
   "nbconvert_exporter": "python",
   "pygments_lexer": "ipython3",
   "version": "3.8.3"
  }
 },
 "nbformat": 4,
 "nbformat_minor": 4
}
